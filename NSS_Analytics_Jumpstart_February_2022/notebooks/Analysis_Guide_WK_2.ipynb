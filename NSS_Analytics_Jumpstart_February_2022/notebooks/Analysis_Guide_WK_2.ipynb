{
 "cells": [
  {
   "cell_type": "markdown",
   "id": "227fe749",
   "metadata": {},
   "source": [
    "Import Packages:"
   ]
  },
  {
   "cell_type": "code",
   "execution_count": 1,
   "id": "c373869f",
   "metadata": {},
   "outputs": [],
   "source": [
    "import pandas as pd\n",
    "import matplotlib.pyplot as plt\n",
    "import seaborn as sns\n",
    "import sqlite3 as sql\n",
    "%matplotlib inline"
   ]
  },
  {
   "cell_type": "markdown",
   "id": "b58c6e59",
   "metadata": {},
   "source": [
    "Take a look at the 2018 hubNashville data by reading it into a DataFrame called hub."
   ]
  },
  {
   "cell_type": "code",
   "execution_count": 2,
   "id": "e8790e94",
   "metadata": {},
   "outputs": [],
   "source": [
    "hub = pd.read_csv('../data/hubNashville_2018.csv')"
   ]
  },
  {
   "cell_type": "markdown",
   "id": "5d32f584",
   "metadata": {},
   "source": [
    "Clean the hub column names to make everything lowercase and eliminate spaces so you can use dot-notation. Make the new names 'request_id', 'status', 'request_type', 'subrequest_type', 'add_subreqest_type', 'opened', 'closed', 'origin', 'zipcode', 'lat', 'lng'."
   ]
  },
  {
   "cell_type": "code",
   "execution_count": 3,
   "id": "baa8375f",
   "metadata": {},
   "outputs": [
    {
     "name": "stdout",
     "output_type": "stream",
     "text": [
      "<class 'pandas.core.frame.DataFrame'>\n",
      "RangeIndex: 81166 entries, 0 to 81165\n",
      "Data columns (total 11 columns):\n",
      " #   Column                      Non-Null Count  Dtype  \n",
      "---  ------                      --------------  -----  \n",
      " 0   Request #                   81166 non-null  int64  \n",
      " 1   Status                      81166 non-null  object \n",
      " 2   Request Type                81166 non-null  object \n",
      " 3   Subrequest Type             81166 non-null  object \n",
      " 4   Additional Subrequest Type  81148 non-null  object \n",
      " 5   Date / Time Opened          81166 non-null  object \n",
      " 6   Date / Time Closed          80866 non-null  object \n",
      " 7   Request Origin              81166 non-null  object \n",
      " 8   Zipcode                     81166 non-null  float64\n",
      " 9   Latitude                    81166 non-null  float64\n",
      " 10  Longitude                   81166 non-null  float64\n",
      "dtypes: float64(3), int64(1), object(7)\n",
      "memory usage: 6.8+ MB\n"
     ]
    }
   ],
   "source": [
    "hub.info()"
   ]
  },
  {
   "cell_type": "code",
   "execution_count": 5,
   "id": "bd25a321",
   "metadata": {},
   "outputs": [
    {
     "data": {
      "text/plain": [
       "Request #                       0\n",
       "Status                          0\n",
       "Request Type                    0\n",
       "Subrequest Type                 0\n",
       "Additional Subrequest Type     18\n",
       "Date / Time Opened              0\n",
       "Date / Time Closed            300\n",
       "Request Origin                  0\n",
       "Zipcode                         0\n",
       "Latitude                        0\n",
       "Longitude                       0\n",
       "dtype: int64"
      ]
     },
     "execution_count": 5,
     "metadata": {},
     "output_type": "execute_result"
    }
   ],
   "source": [
    "hub.isnull().sum()"
   ]
  },
  {
   "cell_type": "code",
   "execution_count": 6,
   "id": "d8722dc0",
   "metadata": {},
   "outputs": [
    {
     "name": "stdout",
     "output_type": "stream",
     "text": [
      "<class 'pandas.core.frame.DataFrame'>\n",
      "RangeIndex: 81166 entries, 0 to 81165\n",
      "Data columns (total 11 columns):\n",
      " #   Column               Non-Null Count  Dtype  \n",
      "---  ------               --------------  -----  \n",
      " 0   request_id           81166 non-null  int64  \n",
      " 1   status               81166 non-null  object \n",
      " 2   request_type         81166 non-null  object \n",
      " 3   subrequest_type      81166 non-null  object \n",
      " 4   add_subrequest_type  81148 non-null  object \n",
      " 5   opened               81166 non-null  object \n",
      " 6   closed               80866 non-null  object \n",
      " 7   origin               81166 non-null  object \n",
      " 8   zipcode              81166 non-null  float64\n",
      " 9   lat                  81166 non-null  float64\n",
      " 10  lng                  81166 non-null  float64\n",
      "dtypes: float64(3), int64(1), object(7)\n",
      "memory usage: 6.8+ MB\n"
     ]
    }
   ],
   "source": [
    "hub = hub.rename( columns = {\n",
    "    'Request #': 'request_id',\n",
    "    'Status': 'status',\n",
    "    'Request Type': 'request_type',\n",
    "    'Subrequest Type': 'subrequest_type',\n",
    "    'Additional Subrequest Type': 'add_subrequest_type',\n",
    "    'Date / Time Opened': 'opened',\n",
    "    'Date / Time Closed': 'closed',\n",
    "    'Request Origin': 'origin',\n",
    "    'Zipcode': 'zipcode',\n",
    "    'Latitude': 'lat',\n",
    "    'Longitude': 'lng'\n",
    "})\n",
    "hub.info()"
   ]
  },
  {
   "cell_type": "code",
   "execution_count": null,
   "id": "d74de992",
   "metadata": {},
   "outputs": [],
   "source": [
    "#hub = hub.loc[~hub.closed.isna()]\n",
    "#hub.shape"
   ]
  },
  {
   "cell_type": "markdown",
   "id": "21871419",
   "metadata": {},
   "source": [
    "Drop the rows from hub where closed is missing. You should end up with 80,866 rows Then create a new column, resolution_time that calculates how long the request was open. You’ll need to convert opened and closed to pandas datetimes before calculating the time delta."
   ]
  },
  {
   "cell_type": "code",
   "execution_count": 7,
   "id": "9f34022b",
   "metadata": {},
   "outputs": [
    {
     "data": {
      "text/plain": [
       "0    2018-02-12 14:00:20\n",
       "1    2018-02-12 14:00:21\n",
       "2    2018-02-02 21:18:15\n",
       "3    2018-02-23 23:27:07\n",
       "4    2018-02-08 14:00:04\n",
       "Name: opened, dtype: object"
      ]
     },
     "execution_count": 7,
     "metadata": {},
     "output_type": "execute_result"
    }
   ],
   "source": [
    "hub = hub.dropna(subset = ['closed'])\n",
    "hub['opened'].head()\n",
    "\n"
   ]
  },
  {
   "cell_type": "code",
   "execution_count": 8,
   "id": "d4a3dc90",
   "metadata": {},
   "outputs": [
    {
     "data": {
      "text/plain": [
       "0    02/12/2018 03:48:14 PM\n",
       "1    02/12/2018 03:49:13 PM\n",
       "2    02/07/2018 05:04:33 PM\n",
       "3    02/27/2018 09:06:16 PM\n",
       "4    02/08/2018 03:01:50 PM\n",
       "Name: closed, dtype: object"
      ]
     },
     "execution_count": 8,
     "metadata": {},
     "output_type": "execute_result"
    }
   ],
   "source": [
    "hub['closed'].head()"
   ]
  },
  {
   "cell_type": "code",
   "execution_count": 9,
   "id": "07c7105b",
   "metadata": {},
   "outputs": [
    {
     "data": {
      "text/html": [
       "<div>\n",
       "<style scoped>\n",
       "    .dataframe tbody tr th:only-of-type {\n",
       "        vertical-align: middle;\n",
       "    }\n",
       "\n",
       "    .dataframe tbody tr th {\n",
       "        vertical-align: top;\n",
       "    }\n",
       "\n",
       "    .dataframe thead th {\n",
       "        text-align: right;\n",
       "    }\n",
       "</style>\n",
       "<table border=\"1\" class=\"dataframe\">\n",
       "  <thead>\n",
       "    <tr style=\"text-align: right;\">\n",
       "      <th></th>\n",
       "      <th>request_id</th>\n",
       "      <th>status</th>\n",
       "      <th>request_type</th>\n",
       "      <th>subrequest_type</th>\n",
       "      <th>add_subrequest_type</th>\n",
       "      <th>opened</th>\n",
       "      <th>closed</th>\n",
       "      <th>origin</th>\n",
       "      <th>zipcode</th>\n",
       "      <th>lat</th>\n",
       "      <th>lng</th>\n",
       "      <th>resolution_time</th>\n",
       "    </tr>\n",
       "  </thead>\n",
       "  <tbody>\n",
       "    <tr>\n",
       "      <th>0</th>\n",
       "      <td>45480</td>\n",
       "      <td>Closed</td>\n",
       "      <td>Streets, Roads &amp; Sidewalks</td>\n",
       "      <td>Blocking the Right of Way</td>\n",
       "      <td>Blocking the Right of Way</td>\n",
       "      <td>2018-02-12 14:00:20</td>\n",
       "      <td>2018-02-12 15:48:14</td>\n",
       "      <td>Phone</td>\n",
       "      <td>37115.0</td>\n",
       "      <td>36.296917</td>\n",
       "      <td>-86.699162</td>\n",
       "      <td>0 days 01:47:54</td>\n",
       "    </tr>\n",
       "    <tr>\n",
       "      <th>1</th>\n",
       "      <td>45482</td>\n",
       "      <td>Closed</td>\n",
       "      <td>Streets, Roads &amp; Sidewalks</td>\n",
       "      <td>Blocking the Right of Way</td>\n",
       "      <td>Blocking the Right of Way</td>\n",
       "      <td>2018-02-12 14:00:21</td>\n",
       "      <td>2018-02-12 15:49:13</td>\n",
       "      <td>Phone</td>\n",
       "      <td>37076.0</td>\n",
       "      <td>36.215403</td>\n",
       "      <td>-86.588513</td>\n",
       "      <td>0 days 01:48:52</td>\n",
       "    </tr>\n",
       "    <tr>\n",
       "      <th>2</th>\n",
       "      <td>43742</td>\n",
       "      <td>Closed</td>\n",
       "      <td>Trash, Recycling &amp; Litter</td>\n",
       "      <td>Litter</td>\n",
       "      <td>Litter</td>\n",
       "      <td>2018-02-02 21:18:15</td>\n",
       "      <td>2018-02-07 17:04:33</td>\n",
       "      <td>Phone</td>\n",
       "      <td>37076.0</td>\n",
       "      <td>36.187902</td>\n",
       "      <td>-86.607286</td>\n",
       "      <td>4 days 19:46:18</td>\n",
       "    </tr>\n",
       "    <tr>\n",
       "      <th>3</th>\n",
       "      <td>49069</td>\n",
       "      <td>Closed</td>\n",
       "      <td>Streets, Roads &amp; Sidewalks</td>\n",
       "      <td>Blocking the Right of Way</td>\n",
       "      <td>Blocking the Right of Way</td>\n",
       "      <td>2018-02-23 23:27:07</td>\n",
       "      <td>2018-02-27 21:06:16</td>\n",
       "      <td>hubNashville Community</td>\n",
       "      <td>37203.0</td>\n",
       "      <td>36.153761</td>\n",
       "      <td>-86.788745</td>\n",
       "      <td>3 days 21:39:09</td>\n",
       "    </tr>\n",
       "    <tr>\n",
       "      <th>4</th>\n",
       "      <td>44743</td>\n",
       "      <td>Closed</td>\n",
       "      <td>Streets, Roads &amp; Sidewalks</td>\n",
       "      <td>Blocking the Right of Way</td>\n",
       "      <td>Blocking the Right of Way</td>\n",
       "      <td>2018-02-08 14:00:04</td>\n",
       "      <td>2018-02-08 15:01:50</td>\n",
       "      <td>Phone</td>\n",
       "      <td>37210.0</td>\n",
       "      <td>36.154836</td>\n",
       "      <td>-86.763345</td>\n",
       "      <td>0 days 01:01:46</td>\n",
       "    </tr>\n",
       "    <tr>\n",
       "      <th>...</th>\n",
       "      <td>...</td>\n",
       "      <td>...</td>\n",
       "      <td>...</td>\n",
       "      <td>...</td>\n",
       "      <td>...</td>\n",
       "      <td>...</td>\n",
       "      <td>...</td>\n",
       "      <td>...</td>\n",
       "      <td>...</td>\n",
       "      <td>...</td>\n",
       "      <td>...</td>\n",
       "      <td>...</td>\n",
       "    </tr>\n",
       "    <tr>\n",
       "      <th>81046</th>\n",
       "      <td>38380</td>\n",
       "      <td>Closed</td>\n",
       "      <td>Trash, Recycling &amp; Litter</td>\n",
       "      <td>Extra Cart Pickup Request</td>\n",
       "      <td>Extra Recycle Cart Pickup</td>\n",
       "      <td>2018-01-11 14:37:00</td>\n",
       "      <td>2018-01-27 11:00:00</td>\n",
       "      <td>Phone</td>\n",
       "      <td>37212.0</td>\n",
       "      <td>36.134800</td>\n",
       "      <td>-86.800880</td>\n",
       "      <td>15 days 20:23:00</td>\n",
       "    </tr>\n",
       "    <tr>\n",
       "      <th>81047</th>\n",
       "      <td>39406</td>\n",
       "      <td>Closed</td>\n",
       "      <td>Streets, Roads &amp; Sidewalks</td>\n",
       "      <td>Snow and Ice Removal</td>\n",
       "      <td>Snow and Ice Removal</td>\n",
       "      <td>2018-01-17 14:29:12</td>\n",
       "      <td>2018-01-17 21:05:07</td>\n",
       "      <td>hubNashville Community</td>\n",
       "      <td>37013.0</td>\n",
       "      <td>36.035460</td>\n",
       "      <td>-86.638371</td>\n",
       "      <td>0 days 06:35:55</td>\n",
       "    </tr>\n",
       "    <tr>\n",
       "      <th>81048</th>\n",
       "      <td>39538</td>\n",
       "      <td>Closed</td>\n",
       "      <td>Streets, Roads &amp; Sidewalks</td>\n",
       "      <td>Snow and Ice Removal</td>\n",
       "      <td>Snow and Ice Removal</td>\n",
       "      <td>2018-01-17 17:05:54</td>\n",
       "      <td>2018-01-17 21:05:13</td>\n",
       "      <td>Phone</td>\n",
       "      <td>37207.0</td>\n",
       "      <td>36.201120</td>\n",
       "      <td>-86.760162</td>\n",
       "      <td>0 days 03:59:19</td>\n",
       "    </tr>\n",
       "    <tr>\n",
       "      <th>81072</th>\n",
       "      <td>106123</td>\n",
       "      <td>Closed</td>\n",
       "      <td>Property Violations</td>\n",
       "      <td>Tall Grass and Weeds</td>\n",
       "      <td>Tall Grass and Weeds</td>\n",
       "      <td>2018-10-04 15:01:55</td>\n",
       "      <td>2019-02-27 18:55:35</td>\n",
       "      <td>hubNashville Community</td>\n",
       "      <td>37207.0</td>\n",
       "      <td>36.181081</td>\n",
       "      <td>-86.770350</td>\n",
       "      <td>146 days 03:53:40</td>\n",
       "    </tr>\n",
       "    <tr>\n",
       "      <th>81091</th>\n",
       "      <td>85664</td>\n",
       "      <td>Closed</td>\n",
       "      <td>Streets, Roads &amp; Sidewalks</td>\n",
       "      <td>Request New Sign</td>\n",
       "      <td>Request New Sign</td>\n",
       "      <td>2018-07-25 20:07:00</td>\n",
       "      <td>2020-12-29 21:13:19</td>\n",
       "      <td>Phone</td>\n",
       "      <td>37207.0</td>\n",
       "      <td>36.231660</td>\n",
       "      <td>-86.803969</td>\n",
       "      <td>888 days 01:06:19</td>\n",
       "    </tr>\n",
       "  </tbody>\n",
       "</table>\n",
       "<p>80866 rows × 12 columns</p>\n",
       "</div>"
      ],
      "text/plain": [
       "       request_id  status                request_type  \\\n",
       "0           45480  Closed  Streets, Roads & Sidewalks   \n",
       "1           45482  Closed  Streets, Roads & Sidewalks   \n",
       "2           43742  Closed   Trash, Recycling & Litter   \n",
       "3           49069  Closed  Streets, Roads & Sidewalks   \n",
       "4           44743  Closed  Streets, Roads & Sidewalks   \n",
       "...           ...     ...                         ...   \n",
       "81046       38380  Closed   Trash, Recycling & Litter   \n",
       "81047       39406  Closed  Streets, Roads & Sidewalks   \n",
       "81048       39538  Closed  Streets, Roads & Sidewalks   \n",
       "81072      106123  Closed         Property Violations   \n",
       "81091       85664  Closed  Streets, Roads & Sidewalks   \n",
       "\n",
       "                 subrequest_type        add_subrequest_type  \\\n",
       "0      Blocking the Right of Way  Blocking the Right of Way   \n",
       "1      Blocking the Right of Way  Blocking the Right of Way   \n",
       "2                         Litter                     Litter   \n",
       "3      Blocking the Right of Way  Blocking the Right of Way   \n",
       "4      Blocking the Right of Way  Blocking the Right of Way   \n",
       "...                          ...                        ...   \n",
       "81046  Extra Cart Pickup Request  Extra Recycle Cart Pickup   \n",
       "81047       Snow and Ice Removal       Snow and Ice Removal   \n",
       "81048       Snow and Ice Removal       Snow and Ice Removal   \n",
       "81072       Tall Grass and Weeds       Tall Grass and Weeds   \n",
       "81091           Request New Sign           Request New Sign   \n",
       "\n",
       "                   opened              closed                  origin  \\\n",
       "0     2018-02-12 14:00:20 2018-02-12 15:48:14                   Phone   \n",
       "1     2018-02-12 14:00:21 2018-02-12 15:49:13                   Phone   \n",
       "2     2018-02-02 21:18:15 2018-02-07 17:04:33                   Phone   \n",
       "3     2018-02-23 23:27:07 2018-02-27 21:06:16  hubNashville Community   \n",
       "4     2018-02-08 14:00:04 2018-02-08 15:01:50                   Phone   \n",
       "...                   ...                 ...                     ...   \n",
       "81046 2018-01-11 14:37:00 2018-01-27 11:00:00                   Phone   \n",
       "81047 2018-01-17 14:29:12 2018-01-17 21:05:07  hubNashville Community   \n",
       "81048 2018-01-17 17:05:54 2018-01-17 21:05:13                   Phone   \n",
       "81072 2018-10-04 15:01:55 2019-02-27 18:55:35  hubNashville Community   \n",
       "81091 2018-07-25 20:07:00 2020-12-29 21:13:19                   Phone   \n",
       "\n",
       "       zipcode        lat        lng   resolution_time  \n",
       "0      37115.0  36.296917 -86.699162   0 days 01:47:54  \n",
       "1      37076.0  36.215403 -86.588513   0 days 01:48:52  \n",
       "2      37076.0  36.187902 -86.607286   4 days 19:46:18  \n",
       "3      37203.0  36.153761 -86.788745   3 days 21:39:09  \n",
       "4      37210.0  36.154836 -86.763345   0 days 01:01:46  \n",
       "...        ...        ...        ...               ...  \n",
       "81046  37212.0  36.134800 -86.800880  15 days 20:23:00  \n",
       "81047  37013.0  36.035460 -86.638371   0 days 06:35:55  \n",
       "81048  37207.0  36.201120 -86.760162   0 days 03:59:19  \n",
       "81072  37207.0  36.181081 -86.770350 146 days 03:53:40  \n",
       "81091  37207.0  36.231660 -86.803969 888 days 01:06:19  \n",
       "\n",
       "[80866 rows x 12 columns]"
      ]
     },
     "execution_count": 9,
     "metadata": {},
     "output_type": "execute_result"
    }
   ],
   "source": [
    "hub['opened'] = pd.to_datetime(hub['opened'],\n",
    "                              format = '%Y-%m-%d %H:%M:%S')\n",
    "hub['closed'] = pd.to_datetime(hub['closed'],\n",
    "                              format = '%m/%d/%Y %I:%M:%S %p')\n",
    "hub['resolution_time'] = hub['closed'] - hub['opened']\n",
    "hub"
   ]
  },
  {
   "cell_type": "markdown",
   "id": "7b38e982",
   "metadata": {},
   "source": [
    "Were any requests open for longer than a year? How many? What request type was most commonly open for more than a year? Save the requests that were open for longer than a year to a DataFrame named slow_to_resolve."
   ]
  },
  {
   "cell_type": "code",
   "execution_count": 15,
   "id": "deff2930",
   "metadata": {},
   "outputs": [
    {
     "data": {
      "text/plain": [
       "(288, 12)"
      ]
     },
     "execution_count": 15,
     "metadata": {},
     "output_type": "execute_result"
    }
   ],
   "source": [
    "slow_to_resolve = hub[hub['resolution_time'] > '365 days']\n",
    "#alternative: slow_to_resolve = hub.loc[hub.resolution_time > '365 days']\n",
    "slow_to_resolve.shape"
   ]
  },
  {
   "cell_type": "code",
   "execution_count": 13,
   "id": "42059cec",
   "metadata": {},
   "outputs": [
    {
     "data": {
      "text/plain": [
       "Streets, Roads & Sidewalks    159\n",
       "Property Violations            73\n",
       "Public Safety                  14\n",
       "Other                          14\n",
       "Electric & Water General       10\n",
       "Trash, Recycling & Litter       9\n",
       "Education & Libraries           5\n",
       "Planning & Zoning               2\n",
       "Social Services & Housing       2\n",
       "Name: request_type, dtype: int64"
      ]
     },
     "execution_count": 13,
     "metadata": {},
     "output_type": "execute_result"
    }
   ],
   "source": [
    "slow_to_resolve['request_type'].value_counts()"
   ]
  },
  {
   "cell_type": "markdown",
   "id": "789f9de8",
   "metadata": {},
   "source": [
    "Create a new resolution_time_hours column by dividing the resolution_time column by pd.Timedelta(hours = 1). The code to do this is"
   ]
  },
  {
   "cell_type": "code",
   "execution_count": 45,
   "id": "85df3f13",
   "metadata": {},
   "outputs": [],
   "source": [
    "hub['resolution_time_hours'] = hub['resolution_time'] / pd.Timedelta(hours = 1)"
   ]
  },
  {
   "cell_type": "markdown",
   "id": "4906f270",
   "metadata": {},
   "source": [
    "Look at the distribution of resolution times. What do you notice?"
   ]
  },
  {
   "cell_type": "code",
   "execution_count": 46,
   "id": "a1adb73b",
   "metadata": {},
   "outputs": [
    {
     "data": {
      "text/plain": [
       "count                         80866\n",
       "mean     14 days 16:05:55.696287685\n",
       "std      43 days 06:11:36.353865900\n",
       "min                 0 days 00:00:00\n",
       "25%          1 days 01:58:26.250000\n",
       "50%                 3 days 01:16:19\n",
       "75%                 8 days 11:32:00\n",
       "max               938 days 02:22:16\n",
       "Name: resolution_time, dtype: object"
      ]
     },
     "execution_count": 46,
     "metadata": {},
     "output_type": "execute_result"
    }
   ],
   "source": [
    "hub['resolution_time'].describe()"
   ]
  },
  {
   "cell_type": "markdown",
   "id": "9a7613b4",
   "metadata": {},
   "source": [
    "Calculate the median resolution time (in hours) by zipcode for requests of type “Streets, Roads & Sidewalks”. We are using median time since the distribution of resolution times is highly skewed. Save the results as a dataframe called streets_median with column names zipcode and median_resolution_time."
   ]
  },
  {
   "cell_type": "code",
   "execution_count": 47,
   "id": "11650ee7",
   "metadata": {},
   "outputs": [
    {
     "data": {
      "text/html": [
       "<div>\n",
       "<style scoped>\n",
       "    .dataframe tbody tr th:only-of-type {\n",
       "        vertical-align: middle;\n",
       "    }\n",
       "\n",
       "    .dataframe tbody tr th {\n",
       "        vertical-align: top;\n",
       "    }\n",
       "\n",
       "    .dataframe thead th {\n",
       "        text-align: right;\n",
       "    }\n",
       "</style>\n",
       "<table border=\"1\" class=\"dataframe\">\n",
       "  <thead>\n",
       "    <tr style=\"text-align: right;\">\n",
       "      <th></th>\n",
       "      <th>zipcode</th>\n",
       "      <th>resolution_time_hours</th>\n",
       "    </tr>\n",
       "  </thead>\n",
       "  <tbody>\n",
       "  </tbody>\n",
       "</table>\n",
       "</div>"
      ],
      "text/plain": [
       "Empty DataFrame\n",
       "Columns: [zipcode, resolution_time_hours]\n",
       "Index: []"
      ]
     },
     "execution_count": 47,
     "metadata": {},
     "output_type": "execute_result"
    }
   ],
   "source": [
    "streets_median = hub[hub['request_type'] == 'Streets Roads & Sidewalks'].groupby('zipcode')['resolution_time_hours'].median().sort_values()\n",
    "streets_median = streets_median.reset_index()\n",
    "streets_median"
   ]
  },
  {
   "cell_type": "code",
   "execution_count": 26,
   "id": "5165f7d1",
   "metadata": {},
   "outputs": [],
   "source": [
    "conn = sql.connect('../data/metro_survey.db')\n",
    "cur = conn.cursor()"
   ]
  },
  {
   "cell_type": "code",
   "execution_count": 28,
   "id": "010a6663",
   "metadata": {},
   "outputs": [],
   "source": [
    "cur.execute(\"SELECT name FROM sqlite_master WHERE type='table' ORDER BY name;\")\n",
    "tables = (cur.fetchall())"
   ]
  },
  {
   "cell_type": "code",
   "execution_count": 29,
   "id": "4e3995be",
   "metadata": {},
   "outputs": [
    {
     "name": "stdout",
     "output_type": "stream",
     "text": [
      "[('codes',), ('equality_and_access',), ('general_services',), ('info',), ('overall',), ('recreation',), ('safety',), ('transportation',)]\n"
     ]
    }
   ],
   "source": [
    "print(tables)"
   ]
  },
  {
   "cell_type": "code",
   "execution_count": 30,
   "id": "056b22a0",
   "metadata": {},
   "outputs": [],
   "source": [
    "query = '''\n",
    "SELECT *\n",
    "FROM safety JOIN info ON safety.Id = info.id;\n",
    "'''"
   ]
  },
  {
   "cell_type": "code",
   "execution_count": 31,
   "id": "392400e5",
   "metadata": {},
   "outputs": [
    {
     "data": {
      "text/plain": [
       "(2171, 29)"
      ]
     },
     "execution_count": 31,
     "metadata": {},
     "output_type": "execute_result"
    }
   ],
   "source": [
    "safety_exp = pd.read_sql(query, conn)\n",
    "safety_exp.shape"
   ]
  },
  {
   "cell_type": "code",
   "execution_count": 33,
   "id": "a1a75442",
   "metadata": {},
   "outputs": [
    {
     "data": {
      "text/html": [
       "<div>\n",
       "<style scoped>\n",
       "    .dataframe tbody tr th:only-of-type {\n",
       "        vertical-align: middle;\n",
       "    }\n",
       "\n",
       "    .dataframe tbody tr th {\n",
       "        vertical-align: top;\n",
       "    }\n",
       "\n",
       "    .dataframe thead th {\n",
       "        text-align: right;\n",
       "    }\n",
       "</style>\n",
       "<table border=\"1\" class=\"dataframe\">\n",
       "  <thead>\n",
       "    <tr style=\"text-align: right;\">\n",
       "      <th></th>\n",
       "      <th>ZIP Code</th>\n",
       "      <th>Police - Overall</th>\n",
       "    </tr>\n",
       "  </thead>\n",
       "  <tbody>\n",
       "    <tr>\n",
       "      <th>0</th>\n",
       "      <td>37208</td>\n",
       "      <td>Very Dissatisfied</td>\n",
       "    </tr>\n",
       "    <tr>\n",
       "      <th>1</th>\n",
       "      <td>37211</td>\n",
       "      <td>Satisfied</td>\n",
       "    </tr>\n",
       "    <tr>\n",
       "      <th>2</th>\n",
       "      <td>37208</td>\n",
       "      <td>Neutral</td>\n",
       "    </tr>\n",
       "    <tr>\n",
       "      <th>3</th>\n",
       "      <td>37203</td>\n",
       "      <td>Very Satisfied</td>\n",
       "    </tr>\n",
       "    <tr>\n",
       "      <th>4</th>\n",
       "      <td>37138</td>\n",
       "      <td>Neutral</td>\n",
       "    </tr>\n",
       "  </tbody>\n",
       "</table>\n",
       "</div>"
      ],
      "text/plain": [
       "   ZIP Code   Police - Overall\n",
       "0     37208  Very Dissatisfied\n",
       "1     37211          Satisfied\n",
       "2     37208            Neutral\n",
       "3     37203     Very Satisfied\n",
       "4     37138            Neutral"
      ]
     },
     "execution_count": 33,
     "metadata": {},
     "output_type": "execute_result"
    }
   ],
   "source": [
    "safety_exp = safety_exp[['ZIP Code', 'Police - Overall']]\n",
    "safety_exp.head()"
   ]
  },
  {
   "cell_type": "code",
   "execution_count": 35,
   "id": "f2a332bd",
   "metadata": {},
   "outputs": [
    {
     "data": {
      "text/html": [
       "<div>\n",
       "<style scoped>\n",
       "    .dataframe tbody tr th:only-of-type {\n",
       "        vertical-align: middle;\n",
       "    }\n",
       "\n",
       "    .dataframe tbody tr th {\n",
       "        vertical-align: top;\n",
       "    }\n",
       "\n",
       "    .dataframe thead th {\n",
       "        text-align: right;\n",
       "    }\n",
       "</style>\n",
       "<table border=\"1\" class=\"dataframe\">\n",
       "  <thead>\n",
       "    <tr style=\"text-align: right;\">\n",
       "      <th></th>\n",
       "      <th>zipcode</th>\n",
       "      <th>total_responses</th>\n",
       "    </tr>\n",
       "  </thead>\n",
       "  <tbody>\n",
       "    <tr>\n",
       "      <th>0</th>\n",
       "      <td>37207</td>\n",
       "      <td>226</td>\n",
       "    </tr>\n",
       "    <tr>\n",
       "      <th>1</th>\n",
       "      <td>37211</td>\n",
       "      <td>190</td>\n",
       "    </tr>\n",
       "    <tr>\n",
       "      <th>2</th>\n",
       "      <td>37013</td>\n",
       "      <td>180</td>\n",
       "    </tr>\n",
       "    <tr>\n",
       "      <th>3</th>\n",
       "      <td>37221</td>\n",
       "      <td>141</td>\n",
       "    </tr>\n",
       "    <tr>\n",
       "      <th>4</th>\n",
       "      <td>37208</td>\n",
       "      <td>121</td>\n",
       "    </tr>\n",
       "  </tbody>\n",
       "</table>\n",
       "</div>"
      ],
      "text/plain": [
       "   zipcode  total_responses\n",
       "0    37207              226\n",
       "1    37211              190\n",
       "2    37013              180\n",
       "3    37221              141\n",
       "4    37208              121"
      ]
     },
     "execution_count": 35,
     "metadata": {},
     "output_type": "execute_result"
    }
   ],
   "source": [
    "safety_total = safety_exp['ZIP Code'].value_counts().reset_index()\n",
    "safety_total.columns = ['zipcode', 'total_responses']\n",
    "safety_total.head()"
   ]
  },
  {
   "cell_type": "code",
   "execution_count": 37,
   "id": "de0deeaf",
   "metadata": {},
   "outputs": [
    {
     "data": {
      "text/html": [
       "<div>\n",
       "<style scoped>\n",
       "    .dataframe tbody tr th:only-of-type {\n",
       "        vertical-align: middle;\n",
       "    }\n",
       "\n",
       "    .dataframe tbody tr th {\n",
       "        vertical-align: top;\n",
       "    }\n",
       "\n",
       "    .dataframe thead th {\n",
       "        text-align: right;\n",
       "    }\n",
       "</style>\n",
       "<table border=\"1\" class=\"dataframe\">\n",
       "  <thead>\n",
       "    <tr style=\"text-align: right;\">\n",
       "      <th></th>\n",
       "      <th>zipcode</th>\n",
       "      <th>total_dissatisfied</th>\n",
       "    </tr>\n",
       "  </thead>\n",
       "  <tbody>\n",
       "    <tr>\n",
       "      <th>0</th>\n",
       "      <td>37207</td>\n",
       "      <td>48</td>\n",
       "    </tr>\n",
       "    <tr>\n",
       "      <th>1</th>\n",
       "      <td>37013</td>\n",
       "      <td>36</td>\n",
       "    </tr>\n",
       "    <tr>\n",
       "      <th>2</th>\n",
       "      <td>37211</td>\n",
       "      <td>26</td>\n",
       "    </tr>\n",
       "    <tr>\n",
       "      <th>3</th>\n",
       "      <td>37218</td>\n",
       "      <td>22</td>\n",
       "    </tr>\n",
       "    <tr>\n",
       "      <th>4</th>\n",
       "      <td>37208</td>\n",
       "      <td>22</td>\n",
       "    </tr>\n",
       "  </tbody>\n",
       "</table>\n",
       "</div>"
      ],
      "text/plain": [
       "   zipcode  total_dissatisfied\n",
       "0    37207                  48\n",
       "1    37013                  36\n",
       "2    37211                  26\n",
       "3    37218                  22\n",
       "4    37208                  22"
      ]
     },
     "execution_count": 37,
     "metadata": {},
     "output_type": "execute_result"
    }
   ],
   "source": [
    "safety_dissatisfied = safety_exp.loc[safety_exp['Police - Overall'].isin(['Dissatisfied', 'Very Dissatisfied'])]['ZIP Code'].value_counts().reset_index()\n",
    "safety_dissatisfied.columns = ['zipcode', 'total_dissatisfied']\n",
    "safety_dissatisfied.head()"
   ]
  },
  {
   "cell_type": "code",
   "execution_count": 39,
   "id": "c7e772d5",
   "metadata": {},
   "outputs": [],
   "source": [
    "safety_by_zip = pd.merge(left = safety_dissatisfied, right = safety_total, how = 'right').fillna(0)"
   ]
  },
  {
   "cell_type": "code",
   "execution_count": 41,
   "id": "75e1327d",
   "metadata": {},
   "outputs": [
    {
     "data": {
      "text/html": [
       "<div>\n",
       "<style scoped>\n",
       "    .dataframe tbody tr th:only-of-type {\n",
       "        vertical-align: middle;\n",
       "    }\n",
       "\n",
       "    .dataframe tbody tr th {\n",
       "        vertical-align: top;\n",
       "    }\n",
       "\n",
       "    .dataframe thead th {\n",
       "        text-align: right;\n",
       "    }\n",
       "</style>\n",
       "<table border=\"1\" class=\"dataframe\">\n",
       "  <thead>\n",
       "    <tr style=\"text-align: right;\">\n",
       "      <th></th>\n",
       "      <th>zipcode</th>\n",
       "      <th>total_dissatisfied</th>\n",
       "      <th>total_responses</th>\n",
       "      <th>pct_dissatisfied</th>\n",
       "    </tr>\n",
       "  </thead>\n",
       "  <tbody>\n",
       "    <tr>\n",
       "      <th>0</th>\n",
       "      <td>37207</td>\n",
       "      <td>48.0</td>\n",
       "      <td>226</td>\n",
       "      <td>21.238938</td>\n",
       "    </tr>\n",
       "    <tr>\n",
       "      <th>1</th>\n",
       "      <td>37211</td>\n",
       "      <td>26.0</td>\n",
       "      <td>190</td>\n",
       "      <td>13.684211</td>\n",
       "    </tr>\n",
       "    <tr>\n",
       "      <th>2</th>\n",
       "      <td>37013</td>\n",
       "      <td>36.0</td>\n",
       "      <td>180</td>\n",
       "      <td>20.000000</td>\n",
       "    </tr>\n",
       "    <tr>\n",
       "      <th>3</th>\n",
       "      <td>37221</td>\n",
       "      <td>12.0</td>\n",
       "      <td>141</td>\n",
       "      <td>8.510638</td>\n",
       "    </tr>\n",
       "    <tr>\n",
       "      <th>4</th>\n",
       "      <td>37208</td>\n",
       "      <td>22.0</td>\n",
       "      <td>121</td>\n",
       "      <td>18.181818</td>\n",
       "    </tr>\n",
       "  </tbody>\n",
       "</table>\n",
       "</div>"
      ],
      "text/plain": [
       "   zipcode  total_dissatisfied  total_responses  pct_dissatisfied\n",
       "0    37207                48.0              226         21.238938\n",
       "1    37211                26.0              190         13.684211\n",
       "2    37013                36.0              180         20.000000\n",
       "3    37221                12.0              141          8.510638\n",
       "4    37208                22.0              121         18.181818"
      ]
     },
     "execution_count": 41,
     "metadata": {},
     "output_type": "execute_result"
    }
   ],
   "source": [
    "safety_by_zip['pct_dissatisfied'] = 100 * safety_by_zip['total_dissatisfied'] / safety_by_zip['total_responses']\n",
    "safety_by_zip.head()"
   ]
  },
  {
   "cell_type": "markdown",
   "id": "f8d46ed5",
   "metadata": {},
   "source": [
    "this is as far as I got. The beow is pasted from class, but I am missing a step or two. Revisit the analysis guide to take a look."
   ]
  },
  {
   "cell_type": "code",
   "execution_count": 49,
   "id": "50e7a7b3",
   "metadata": {},
   "outputs": [
    {
     "ename": "NameError",
     "evalue": "name 'police_calls' is not defined",
     "output_type": "error",
     "traceback": [
      "\u001b[0;31m---------------------------------------------------------------------------\u001b[0m",
      "\u001b[0;31mNameError\u001b[0m                                 Traceback (most recent call last)",
      "\u001b[0;32m<ipython-input-49-ccdb60f954e2>\u001b[0m in \u001b[0;36m<module>\u001b[0;34m\u001b[0m\n\u001b[0;32m----> 1\u001b[0;31m \u001b[0mcp_by_zip\u001b[0m \u001b[0;34m=\u001b[0m \u001b[0mpolice_calls\u001b[0m\u001b[0;34m[\u001b[0m\u001b[0mpolice_calls\u001b[0m\u001b[0;34m[\u001b[0m\u001b[0;34m'tencode_desc'\u001b[0m\u001b[0;34m]\u001b[0m \u001b[0;34m==\u001b[0m \u001b[0;34m'Community Policing Activity'\u001b[0m\u001b[0;34m]\u001b[0m\u001b[0;34m[\u001b[0m\u001b[0;34m'zipcode'\u001b[0m\u001b[0;34m]\u001b[0m\u001b[0;34m.\u001b[0m\u001b[0mvalue_counts\u001b[0m\u001b[0;34m(\u001b[0m\u001b[0;34m)\u001b[0m\u001b[0;34m.\u001b[0m\u001b[0mreset_index\u001b[0m\u001b[0;34m(\u001b[0m\u001b[0;34m)\u001b[0m\u001b[0;34m\u001b[0m\u001b[0;34m\u001b[0m\u001b[0m\n\u001b[0m\u001b[1;32m      2\u001b[0m \u001b[0mcp_by_zip\u001b[0m\u001b[0;34m.\u001b[0m\u001b[0mcolumns\u001b[0m \u001b[0;34m=\u001b[0m \u001b[0;34m[\u001b[0m\u001b[0;34m'zipcode'\u001b[0m\u001b[0;34m,\u001b[0m \u001b[0;34m'community_policing_calls'\u001b[0m\u001b[0;34m]\u001b[0m\u001b[0;34m\u001b[0m\u001b[0;34m\u001b[0m\u001b[0m\n",
      "\u001b[0;31mNameError\u001b[0m: name 'police_calls' is not defined"
     ]
    }
   ],
   "source": [
    "#cp_by_zip = police_calls[police_calls['tencode_desc'] == 'Community Policing Activity']['zipcode'].value_counts().reset_index()\n",
    "#cp_by_zip.columns = ['zipcode', 'community_policing_calls']"
   ]
  },
  {
   "cell_type": "code",
   "execution_count": 48,
   "id": "d98acd9a",
   "metadata": {},
   "outputs": [
    {
     "ename": "NameError",
     "evalue": "name 'cp_by_zip' is not defined",
     "output_type": "error",
     "traceback": [
      "\u001b[0;31m---------------------------------------------------------------------------\u001b[0m",
      "\u001b[0;31mNameError\u001b[0m                                 Traceback (most recent call last)",
      "\u001b[0;32m<ipython-input-48-8b3289e7f84b>\u001b[0m in \u001b[0;36m<module>\u001b[0;34m\u001b[0m\n\u001b[0;32m----> 1\u001b[0;31m \u001b[0msafety_by_zip\u001b[0m \u001b[0;34m=\u001b[0m \u001b[0mpd\u001b[0m\u001b[0;34m.\u001b[0m\u001b[0mmerge\u001b[0m\u001b[0;34m(\u001b[0m\u001b[0mleft\u001b[0m \u001b[0;34m=\u001b[0m \u001b[0msafety_by_zip\u001b[0m\u001b[0;34m,\u001b[0m \u001b[0mright\u001b[0m \u001b[0;34m=\u001b[0m \u001b[0mcp_by_zip\u001b[0m\u001b[0;34m,\u001b[0m \u001b[0mhow\u001b[0m\u001b[0;34m=\u001b[0m \u001b[0;34m'left'\u001b[0m\u001b[0;34m)\u001b[0m\u001b[0;34m\u001b[0m\u001b[0;34m\u001b[0m\u001b[0m\n\u001b[0m\u001b[1;32m      2\u001b[0m \u001b[0msafety_by_zip\u001b[0m \u001b[0;34m=\u001b[0m \u001b[0mpd\u001b[0m\u001b[0;34m.\u001b[0m\u001b[0mmerge\u001b[0m\u001b[0;34m(\u001b[0m\u001b[0mleft\u001b[0m \u001b[0;34m=\u001b[0m \u001b[0msafety_by_zip\u001b[0m\u001b[0;34m,\u001b[0m \u001b[0mright\u001b[0m \u001b[0;34m=\u001b[0m \u001b[0mtotal_police_calls\u001b[0m\u001b[0;34m,\u001b[0m \u001b[0mhow\u001b[0m\u001b[0;34m=\u001b[0m\u001b[0;34m'left'\u001b[0m\u001b[0;34m)\u001b[0m\u001b[0;34m.\u001b[0m\u001b[0mfillna\u001b[0m\u001b[0;34m(\u001b[0m\u001b[0;36m0\u001b[0m\u001b[0;34m)\u001b[0m\u001b[0;34m\u001b[0m\u001b[0;34m\u001b[0m\u001b[0m\n\u001b[1;32m      3\u001b[0m \u001b[0;34m\u001b[0m\u001b[0m\n\u001b[1;32m      4\u001b[0m \u001b[0msafety_by_zip\u001b[0m\u001b[0;34m[\u001b[0m\u001b[0;34m'cp_pct'\u001b[0m\u001b[0;34m]\u001b[0m \u001b[0;34m=\u001b[0m \u001b[0;36m100\u001b[0m \u001b[0;34m*\u001b[0m \u001b[0msafety_by_zip\u001b[0m\u001b[0;34m[\u001b[0m\u001b[0;34m'community_policing_calls'\u001b[0m\u001b[0;34m]\u001b[0m \u001b[0;34m/\u001b[0m \u001b[0msafety_by_zip\u001b[0m\u001b[0;34m[\u001b[0m\u001b[0;34m'total_calls'\u001b[0m\u001b[0;34m]\u001b[0m\u001b[0;34m\u001b[0m\u001b[0;34m\u001b[0m\u001b[0m\n",
      "\u001b[0;31mNameError\u001b[0m: name 'cp_by_zip' is not defined"
     ]
    }
   ],
   "source": [
    "#safety_by_zip = pd.merge(left = safety_by_zip, right = cp_by_zip, how= 'left')\n",
    "#safety_by_zip = pd.merge(left = safety_by_zip, right = total_police_calls, how='left').fillna(0)\n",
    "\n",
    "#safety_by_zip['cp_pct'] = 100 * safety_by_zip['community_policing_calls'] / safety_by_zip['total_calls']"
   ]
  },
  {
   "cell_type": "code",
   "execution_count": null,
   "id": "01c27a70",
   "metadata": {
    "collapsed": true
   },
   "outputs": [],
   "source": []
  }
 ],
 "metadata": {
  "kernelspec": {
   "display_name": "Python 3",
   "language": "python",
   "name": "python3"
  },
  "language_info": {
   "codemirror_mode": {
    "name": "ipython",
    "version": 3
   },
   "file_extension": ".py",
   "mimetype": "text/x-python",
   "name": "python",
   "nbconvert_exporter": "python",
   "pygments_lexer": "ipython3",
   "version": "3.8.8"
  }
 },
 "nbformat": 4,
 "nbformat_minor": 5
}
