{
 "cells": [
  {
   "cell_type": "markdown",
   "metadata": {},
   "source": [
    "# Combining DataFrames\n",
    "\n",
    "In this notebook, you'll see two different ways to combine _pandas_ DataFrames."
   ]
  },
  {
   "cell_type": "code",
   "execution_count": 1,
   "metadata": {},
   "outputs": [],
   "source": [
    "import pandas as pd"
   ]
  },
  {
   "cell_type": "markdown",
   "metadata": {},
   "source": [
    "# Merging DataFrames"
   ]
  },
  {
   "cell_type": "markdown",
   "metadata": {},
   "source": [
    "First, we'll import a DataFrame containing information on the revenue and quantity for sales that occurred in the year 2012."
   ]
  },
  {
   "cell_type": "code",
   "execution_count": 2,
   "metadata": {},
   "outputs": [
    {
     "data": {
      "text/html": [
       "<div>\n",
       "<style scoped>\n",
       "    .dataframe tbody tr th:only-of-type {\n",
       "        vertical-align: middle;\n",
       "    }\n",
       "\n",
       "    .dataframe tbody tr th {\n",
       "        vertical-align: top;\n",
       "    }\n",
       "\n",
       "    .dataframe thead th {\n",
       "        text-align: right;\n",
       "    }\n",
       "</style>\n",
       "<table border=\"1\" class=\"dataframe\">\n",
       "  <thead>\n",
       "    <tr style=\"text-align: right;\">\n",
       "      <th></th>\n",
       "      <th>Sale_ID</th>\n",
       "      <th>Year</th>\n",
       "      <th>Quarter</th>\n",
       "      <th>Revenue</th>\n",
       "      <th>Quantity</th>\n",
       "    </tr>\n",
       "  </thead>\n",
       "  <tbody>\n",
       "    <tr>\n",
       "      <th>0</th>\n",
       "      <td>1</td>\n",
       "      <td>2012</td>\n",
       "      <td>Q1 2012</td>\n",
       "      <td>59628.66</td>\n",
       "      <td>489</td>\n",
       "    </tr>\n",
       "    <tr>\n",
       "      <th>1</th>\n",
       "      <td>3</td>\n",
       "      <td>2012</td>\n",
       "      <td>Q1 2012</td>\n",
       "      <td>89940.48</td>\n",
       "      <td>147</td>\n",
       "    </tr>\n",
       "    <tr>\n",
       "      <th>2</th>\n",
       "      <td>4</td>\n",
       "      <td>2012</td>\n",
       "      <td>Q1 2012</td>\n",
       "      <td>165883.41</td>\n",
       "      <td>303</td>\n",
       "    </tr>\n",
       "    <tr>\n",
       "      <th>3</th>\n",
       "      <td>5</td>\n",
       "      <td>2012</td>\n",
       "      <td>Q1 2012</td>\n",
       "      <td>119822.20</td>\n",
       "      <td>1415</td>\n",
       "    </tr>\n",
       "    <tr>\n",
       "      <th>4</th>\n",
       "      <td>6</td>\n",
       "      <td>2012</td>\n",
       "      <td>Q1 2012</td>\n",
       "      <td>87728.96</td>\n",
       "      <td>352</td>\n",
       "    </tr>\n",
       "  </tbody>\n",
       "</table>\n",
       "</div>"
      ],
      "text/plain": [
       "   Sale_ID  Year  Quarter    Revenue  Quantity\n",
       "0        1  2012  Q1 2012   59628.66       489\n",
       "1        3  2012  Q1 2012   89940.48       147\n",
       "2        4  2012  Q1 2012  165883.41       303\n",
       "3        5  2012  Q1 2012  119822.20      1415\n",
       "4        6  2012  Q1 2012   87728.96       352"
      ]
     },
     "execution_count": 2,
     "metadata": {},
     "output_type": "execute_result"
    }
   ],
   "source": [
    "sales_2012 = pd.read_csv('../data/sales_2012.csv')\n",
    "sales_2012.head()"
   ]
  },
  {
   "cell_type": "markdown",
   "metadata": {},
   "source": [
    "Next, we'll bring in a dataset which shows product, retailer, and order method information."
   ]
  },
  {
   "cell_type": "code",
   "execution_count": 3,
   "metadata": {},
   "outputs": [
    {
     "data": {
      "text/html": [
       "<div>\n",
       "<style scoped>\n",
       "    .dataframe tbody tr th:only-of-type {\n",
       "        vertical-align: middle;\n",
       "    }\n",
       "\n",
       "    .dataframe tbody tr th {\n",
       "        vertical-align: top;\n",
       "    }\n",
       "\n",
       "    .dataframe thead th {\n",
       "        text-align: right;\n",
       "    }\n",
       "</style>\n",
       "<table border=\"1\" class=\"dataframe\">\n",
       "  <thead>\n",
       "    <tr style=\"text-align: right;\">\n",
       "      <th></th>\n",
       "      <th>Sale_ID</th>\n",
       "      <th>Retailer_country</th>\n",
       "      <th>Order_method_type</th>\n",
       "      <th>Retailer_type</th>\n",
       "      <th>Product_line</th>\n",
       "      <th>Product_type</th>\n",
       "      <th>Product</th>\n",
       "    </tr>\n",
       "  </thead>\n",
       "  <tbody>\n",
       "    <tr>\n",
       "      <th>0</th>\n",
       "      <td>1</td>\n",
       "      <td>United States</td>\n",
       "      <td>Fax</td>\n",
       "      <td>Outdoors Shop</td>\n",
       "      <td>Camping Equipment</td>\n",
       "      <td>Cooking Gear</td>\n",
       "      <td>TrailChef Deluxe Cook Set</td>\n",
       "    </tr>\n",
       "    <tr>\n",
       "      <th>1</th>\n",
       "      <td>2</td>\n",
       "      <td>United States</td>\n",
       "      <td>Fax</td>\n",
       "      <td>Outdoors Shop</td>\n",
       "      <td>Camping Equipment</td>\n",
       "      <td>Cooking Gear</td>\n",
       "      <td>TrailChef Double Flame</td>\n",
       "    </tr>\n",
       "    <tr>\n",
       "      <th>2</th>\n",
       "      <td>900000</td>\n",
       "      <td>United States</td>\n",
       "      <td>Fax</td>\n",
       "      <td>Outdoors Shop</td>\n",
       "      <td>Camping Equipment</td>\n",
       "      <td>Tents</td>\n",
       "      <td>Star Dome</td>\n",
       "    </tr>\n",
       "    <tr>\n",
       "      <th>3</th>\n",
       "      <td>4</td>\n",
       "      <td>United States</td>\n",
       "      <td>Fax</td>\n",
       "      <td>Outdoors Shop</td>\n",
       "      <td>Camping Equipment</td>\n",
       "      <td>Tents</td>\n",
       "      <td>Star Gazer 2</td>\n",
       "    </tr>\n",
       "    <tr>\n",
       "      <th>4</th>\n",
       "      <td>5</td>\n",
       "      <td>United States</td>\n",
       "      <td>Fax</td>\n",
       "      <td>Outdoors Shop</td>\n",
       "      <td>Camping Equipment</td>\n",
       "      <td>Sleeping Bags</td>\n",
       "      <td>Hibernator Lite</td>\n",
       "    </tr>\n",
       "  </tbody>\n",
       "</table>\n",
       "</div>"
      ],
      "text/plain": [
       "   Sale_ID Retailer_country Order_method_type  Retailer_type  \\\n",
       "0        1    United States               Fax  Outdoors Shop   \n",
       "1        2    United States               Fax  Outdoors Shop   \n",
       "2   900000    United States               Fax  Outdoors Shop   \n",
       "3        4    United States               Fax  Outdoors Shop   \n",
       "4        5    United States               Fax  Outdoors Shop   \n",
       "\n",
       "        Product_line   Product_type                    Product  \n",
       "0  Camping Equipment   Cooking Gear  TrailChef Deluxe Cook Set  \n",
       "1  Camping Equipment   Cooking Gear     TrailChef Double Flame  \n",
       "2  Camping Equipment          Tents                  Star Dome  \n",
       "3  Camping Equipment          Tents               Star Gazer 2  \n",
       "4  Camping Equipment  Sleeping Bags            Hibernator Lite  "
      ]
     },
     "execution_count": 3,
     "metadata": {},
     "output_type": "execute_result"
    }
   ],
   "source": [
    "products = pd.read_csv('../data/products.csv')\n",
    "products.head()"
   ]
  },
  {
   "cell_type": "markdown",
   "metadata": {},
   "source": [
    "Notice that these two DataFrames can be linked together through the `Sale_ID` column. Let's merge these together so that we can do some further analysis.\n",
    "\n",
    "Recall that the syntax for merging dataframes in pandas is:\n",
    "\n",
    "```pd.merge(left dataframe, right dataframe, how to merge, column to merge on)```"
   ]
  },
  {
   "cell_type": "code",
   "execution_count": 4,
   "metadata": {},
   "outputs": [],
   "source": [
    "combined_data = pd.merge(products, sales_2012, how = 'right', on = 'Sale_ID')"
   ]
  },
  {
   "cell_type": "code",
   "execution_count": 5,
   "metadata": {
    "scrolled": true
   },
   "outputs": [
    {
     "data": {
      "text/html": [
       "<div>\n",
       "<style scoped>\n",
       "    .dataframe tbody tr th:only-of-type {\n",
       "        vertical-align: middle;\n",
       "    }\n",
       "\n",
       "    .dataframe tbody tr th {\n",
       "        vertical-align: top;\n",
       "    }\n",
       "\n",
       "    .dataframe thead th {\n",
       "        text-align: right;\n",
       "    }\n",
       "</style>\n",
       "<table border=\"1\" class=\"dataframe\">\n",
       "  <thead>\n",
       "    <tr style=\"text-align: right;\">\n",
       "      <th></th>\n",
       "      <th>Sale_ID</th>\n",
       "      <th>Retailer_country</th>\n",
       "      <th>Order_method_type</th>\n",
       "      <th>Retailer_type</th>\n",
       "      <th>Product_line</th>\n",
       "      <th>Product_type</th>\n",
       "      <th>Product</th>\n",
       "      <th>Year</th>\n",
       "      <th>Quarter</th>\n",
       "      <th>Revenue</th>\n",
       "      <th>Quantity</th>\n",
       "    </tr>\n",
       "  </thead>\n",
       "  <tbody>\n",
       "    <tr>\n",
       "      <th>0</th>\n",
       "      <td>1</td>\n",
       "      <td>United States</td>\n",
       "      <td>Fax</td>\n",
       "      <td>Outdoors Shop</td>\n",
       "      <td>Camping Equipment</td>\n",
       "      <td>Cooking Gear</td>\n",
       "      <td>TrailChef Deluxe Cook Set</td>\n",
       "      <td>2012</td>\n",
       "      <td>Q1 2012</td>\n",
       "      <td>59628.66</td>\n",
       "      <td>489</td>\n",
       "    </tr>\n",
       "    <tr>\n",
       "      <th>1</th>\n",
       "      <td>3</td>\n",
       "      <td>NaN</td>\n",
       "      <td>NaN</td>\n",
       "      <td>NaN</td>\n",
       "      <td>NaN</td>\n",
       "      <td>NaN</td>\n",
       "      <td>NaN</td>\n",
       "      <td>2012</td>\n",
       "      <td>Q1 2012</td>\n",
       "      <td>89940.48</td>\n",
       "      <td>147</td>\n",
       "    </tr>\n",
       "    <tr>\n",
       "      <th>2</th>\n",
       "      <td>4</td>\n",
       "      <td>United States</td>\n",
       "      <td>Fax</td>\n",
       "      <td>Outdoors Shop</td>\n",
       "      <td>Camping Equipment</td>\n",
       "      <td>Tents</td>\n",
       "      <td>Star Gazer 2</td>\n",
       "      <td>2012</td>\n",
       "      <td>Q1 2012</td>\n",
       "      <td>165883.41</td>\n",
       "      <td>303</td>\n",
       "    </tr>\n",
       "    <tr>\n",
       "      <th>3</th>\n",
       "      <td>5</td>\n",
       "      <td>United States</td>\n",
       "      <td>Fax</td>\n",
       "      <td>Outdoors Shop</td>\n",
       "      <td>Camping Equipment</td>\n",
       "      <td>Sleeping Bags</td>\n",
       "      <td>Hibernator Lite</td>\n",
       "      <td>2012</td>\n",
       "      <td>Q1 2012</td>\n",
       "      <td>119822.20</td>\n",
       "      <td>1415</td>\n",
       "    </tr>\n",
       "    <tr>\n",
       "      <th>4</th>\n",
       "      <td>6</td>\n",
       "      <td>United States</td>\n",
       "      <td>Fax</td>\n",
       "      <td>Outdoors Shop</td>\n",
       "      <td>Camping Equipment</td>\n",
       "      <td>Sleeping Bags</td>\n",
       "      <td>Hibernator Extreme</td>\n",
       "      <td>2012</td>\n",
       "      <td>Q1 2012</td>\n",
       "      <td>87728.96</td>\n",
       "      <td>352</td>\n",
       "    </tr>\n",
       "  </tbody>\n",
       "</table>\n",
       "</div>"
      ],
      "text/plain": [
       "   Sale_ID Retailer_country Order_method_type  Retailer_type  \\\n",
       "0        1    United States               Fax  Outdoors Shop   \n",
       "1        3              NaN               NaN            NaN   \n",
       "2        4    United States               Fax  Outdoors Shop   \n",
       "3        5    United States               Fax  Outdoors Shop   \n",
       "4        6    United States               Fax  Outdoors Shop   \n",
       "\n",
       "        Product_line   Product_type                    Product  Year  Quarter  \\\n",
       "0  Camping Equipment   Cooking Gear  TrailChef Deluxe Cook Set  2012  Q1 2012   \n",
       "1                NaN            NaN                        NaN  2012  Q1 2012   \n",
       "2  Camping Equipment          Tents               Star Gazer 2  2012  Q1 2012   \n",
       "3  Camping Equipment  Sleeping Bags            Hibernator Lite  2012  Q1 2012   \n",
       "4  Camping Equipment  Sleeping Bags         Hibernator Extreme  2012  Q1 2012   \n",
       "\n",
       "     Revenue  Quantity  \n",
       "0   59628.66       489  \n",
       "1   89940.48       147  \n",
       "2  165883.41       303  \n",
       "3  119822.20      1415  \n",
       "4   87728.96       352  "
      ]
     },
     "execution_count": 5,
     "metadata": {},
     "output_type": "execute_result"
    }
   ],
   "source": [
    "combined_data.head()"
   ]
  },
  {
   "cell_type": "markdown",
   "metadata": {},
   "source": [
    "Looks like we have some missing values."
   ]
  },
  {
   "cell_type": "code",
   "execution_count": 6,
   "metadata": {},
   "outputs": [
    {
     "name": "stdout",
     "output_type": "stream",
     "text": [
      "<class 'pandas.core.frame.DataFrame'>\n",
      "Int64Index: 33895 entries, 0 to 33894\n",
      "Data columns (total 11 columns):\n",
      " #   Column             Non-Null Count  Dtype  \n",
      "---  ------             --------------  -----  \n",
      " 0   Sale_ID            33895 non-null  int64  \n",
      " 1   Retailer_country   33894 non-null  object \n",
      " 2   Order_method_type  33894 non-null  object \n",
      " 3   Retailer_type      33894 non-null  object \n",
      " 4   Product_line       33894 non-null  object \n",
      " 5   Product_type       33894 non-null  object \n",
      " 6   Product            33894 non-null  object \n",
      " 7   Year               33895 non-null  int64  \n",
      " 8   Quarter            33895 non-null  object \n",
      " 9   Revenue            33895 non-null  float64\n",
      " 10  Quantity           33895 non-null  int64  \n",
      "dtypes: float64(1), int64(3), object(7)\n",
      "memory usage: 3.1+ MB\n"
     ]
    }
   ],
   "source": [
    "combined_data.info()"
   ]
  },
  {
   "cell_type": "code",
   "execution_count": 7,
   "metadata": {},
   "outputs": [
    {
     "data": {
      "text/plain": [
       "Sale_ID              0\n",
       "Retailer_country     1\n",
       "Order_method_type    1\n",
       "Retailer_type        1\n",
       "Product_line         1\n",
       "Product_type         1\n",
       "Product              1\n",
       "Year                 0\n",
       "Quarter              0\n",
       "Revenue              0\n",
       "Quantity             0\n",
       "dtype: int64"
      ]
     },
     "execution_count": 7,
     "metadata": {},
     "output_type": "execute_result"
    }
   ],
   "source": [
    "## How many values are we missing from each column?\n",
    "\n",
    "combined_data.isnull().sum()"
   ]
  },
  {
   "cell_type": "markdown",
   "metadata": {},
   "source": [
    "Notice that we have a row with Sale_ID of 3 which seems to be missing all of the product information. Let's double-check that this information is not contained in the products data."
   ]
  },
  {
   "cell_type": "code",
   "execution_count": 8,
   "metadata": {},
   "outputs": [
    {
     "data": {
      "text/html": [
       "<div>\n",
       "<style scoped>\n",
       "    .dataframe tbody tr th:only-of-type {\n",
       "        vertical-align: middle;\n",
       "    }\n",
       "\n",
       "    .dataframe tbody tr th {\n",
       "        vertical-align: top;\n",
       "    }\n",
       "\n",
       "    .dataframe thead th {\n",
       "        text-align: right;\n",
       "    }\n",
       "</style>\n",
       "<table border=\"1\" class=\"dataframe\">\n",
       "  <thead>\n",
       "    <tr style=\"text-align: right;\">\n",
       "      <th></th>\n",
       "      <th>Sale_ID</th>\n",
       "      <th>Retailer_country</th>\n",
       "      <th>Order_method_type</th>\n",
       "      <th>Retailer_type</th>\n",
       "      <th>Product_line</th>\n",
       "      <th>Product_type</th>\n",
       "      <th>Product</th>\n",
       "    </tr>\n",
       "  </thead>\n",
       "  <tbody>\n",
       "  </tbody>\n",
       "</table>\n",
       "</div>"
      ],
      "text/plain": [
       "Empty DataFrame\n",
       "Columns: [Sale_ID, Retailer_country, Order_method_type, Retailer_type, Product_line, Product_type, Product]\n",
       "Index: []"
      ]
     },
     "execution_count": 8,
     "metadata": {},
     "output_type": "execute_result"
    }
   ],
   "source": [
    "products[products['Sale_ID'] == 3]"
   ]
  },
  {
   "cell_type": "markdown",
   "metadata": {},
   "source": [
    "Once combined, we can start asking questions of our data.\n",
    "\n",
    "#### Question 1: Which product type generated us the most total revenue in 2012? "
   ]
  },
  {
   "cell_type": "code",
   "execution_count": null,
   "metadata": {},
   "outputs": [],
   "source": [
    "# Try and fill in the code to answer this question"
   ]
  },
  {
   "cell_type": "markdown",
   "metadata": {},
   "source": [
    "#### Question 2: What was our highest volume product?"
   ]
  },
  {
   "cell_type": "code",
   "execution_count": null,
   "metadata": {},
   "outputs": [],
   "source": [
    "combined_data.groupby('Product')['Quantity'].sum().sort_values(ascending = False)"
   ]
  },
  {
   "cell_type": "markdown",
   "metadata": {},
   "source": [
    "What is Zone?"
   ]
  },
  {
   "cell_type": "code",
   "execution_count": null,
   "metadata": {},
   "outputs": [],
   "source": [
    "combined_data.loc[combined_data['Product'] == 'Zone']"
   ]
  },
  {
   "cell_type": "markdown",
   "metadata": {},
   "source": [
    "#### Question 3: For which retailer type do we have the highest sales quantity of Zone?"
   ]
  },
  {
   "cell_type": "code",
   "execution_count": null,
   "metadata": {},
   "outputs": [],
   "source": [
    "combined_data.loc[combined_data['Product'] == 'Zone'].groupby('Retailer_type')['Quantity'].sum().sort_values(ascending = False)"
   ]
  },
  {
   "cell_type": "markdown",
   "metadata": {},
   "source": [
    "# Concatenating DataFrames\n",
    "\n",
    "Notice that we also have access to sales data for 2013. Let's read it in."
   ]
  },
  {
   "cell_type": "code",
   "execution_count": null,
   "metadata": {},
   "outputs": [],
   "source": [
    "sales_2013 = pd.read_csv('../data/sales_2013.csv')\n",
    "sales_2013.head(2)"
   ]
  },
  {
   "cell_type": "markdown",
   "metadata": {},
   "source": [
    "This data looks to be formatted in the same way as our 2012 sales data."
   ]
  },
  {
   "cell_type": "code",
   "execution_count": null,
   "metadata": {},
   "outputs": [],
   "source": [
    "sales_2012.head(2)"
   ]
  },
  {
   "cell_type": "markdown",
   "metadata": {},
   "source": [
    "What if we want to combine these two DataFrames. In this case, we don't want to merge, as each record should still have its own row in the result. Instead, this is a time when we want to **concatenate**. \n",
    "\n",
    "To concatenate DataFrames, we can pass the dataframes that we want to combine as a list into the `pd.concat` function."
   ]
  },
  {
   "cell_type": "code",
   "execution_count": null,
   "metadata": {},
   "outputs": [],
   "source": [
    "pd.concat([sales_2012, sales_2013])"
   ]
  },
  {
   "cell_type": "markdown",
   "metadata": {},
   "source": [
    "Note that while we have 66840 rows, the index value at the end of the DataFrame is only 32944. We can reindex the result by using the `ignore_index` argument."
   ]
  },
  {
   "cell_type": "code",
   "execution_count": null,
   "metadata": {},
   "outputs": [],
   "source": [
    "pd.concat([sales_2012, sales_2013], ignore_index = True)"
   ]
  },
  {
   "cell_type": "markdown",
   "metadata": {},
   "source": [
    "We've also got sales for 2014. Rather than rewrite the same code multiple times, we could instead make use of a for loop in order to read in the three DataFrames and then combine them."
   ]
  },
  {
   "cell_type": "code",
   "execution_count": null,
   "metadata": {},
   "outputs": [],
   "source": [
    "# Start with an empty list to hold the individual DataFrames\n",
    "sales_dfs = []\n",
    "\n",
    "for filename in ['../data/sales_2012.csv', '../data/sales_2013.csv', '../data/sales_2014.csv']:\n",
    "    df = pd.read_csv(filename)\n",
    "    sales_dfs.append(df)"
   ]
  },
  {
   "cell_type": "code",
   "execution_count": null,
   "metadata": {},
   "outputs": [],
   "source": [
    "sales = pd.concat(sales_dfs, ignore_index = True)"
   ]
  },
  {
   "cell_type": "code",
   "execution_count": null,
   "metadata": {},
   "outputs": [],
   "source": [
    "sales"
   ]
  }
 ],
 "metadata": {
  "kernelspec": {
   "display_name": "Python 3",
   "language": "python",
   "name": "python3"
  },
  "language_info": {
   "codemirror_mode": {
    "name": "ipython",
    "version": 3
   },
   "file_extension": ".py",
   "mimetype": "text/x-python",
   "name": "python",
   "nbconvert_exporter": "python",
   "pygments_lexer": "ipython3",
   "version": "3.8.8"
  }
 },
 "nbformat": 4,
 "nbformat_minor": 2
}
